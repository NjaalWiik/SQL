{
 "cells": [
  {
   "cell_type": "markdown",
   "metadata": {},
   "source": [
    "# PART 1: RETRIEVING INFORMATION\n",
    "## Excercise 1"
   ]
  },
  {
   "cell_type": "code",
   "execution_count": null,
   "metadata": {},
   "outputs": [],
   "source": [
    "SELECT unitprice, quantityperunit\n",
    "FROM northwind.products\n",
    "WHERE productname = 'Geitost'"
   ]
  },
  {
   "cell_type": "markdown",
   "metadata": {},
   "source": [
    "## Excercise 2"
   ]
  },
  {
   "cell_type": "code",
   "execution_count": null,
   "metadata": {},
   "outputs": [],
   "source": [
    "SELECT productname, unitsinstock\n",
    "FROM northwind.products\n",
    "WHERE quantityperunit LIKE '%jars' OR productname LIKE '%Sauce'"
   ]
  },
  {
   "cell_type": "markdown",
   "metadata": {},
   "source": [
    "## Excercise 3"
   ]
  },
  {
   "cell_type": "code",
   "execution_count": null,
   "metadata": {},
   "outputs": [],
   "source": [
    "SELECT companyname\n",
    "FROM northwind.suppliers\n",
    "WHERE country = 'USA' AND (fax IS NOT NULL OR homepage IS NOT NULL)"
   ]
  },
  {
   "cell_type": "markdown",
   "metadata": {},
   "source": [
    "## Excercise 4"
   ]
  },
  {
   "cell_type": "code",
   "execution_count": null,
   "metadata": {},
   "outputs": [],
   "source": [
    "SELECT DISTINCT firstname, lastname\n",
    "FROM northwind.employees\n",
    "INNER JOIN northwind.orders\n",
    "USING (employeeid) \n",
    "WHERE freight > 200"
   ]
  },
  {
   "cell_type": "markdown",
   "metadata": {},
   "source": [
    "## Excercise 5"
   ]
  },
  {
   "cell_type": "code",
   "execution_count": null,
   "metadata": {},
   "outputs": [],
   "source": [
    "SELECT companyname, address, city\n",
    "FROM northwind.customers\n",
    "WHERE country = (SELECT country\n",
    "    FROM northwind.customers\n",
    "    WHERE companyname = 'Eastern Connection')"
   ]
  },
  {
   "cell_type": "markdown",
   "metadata": {},
   "source": [
    "## Excercise 6"
   ]
  },
  {
   "cell_type": "code",
   "execution_count": null,
   "metadata": {},
   "outputs": [],
   "source": [
    "SELECT productname, unitprice\n",
    "FROM northwind.products\n",
    "INNER JOIN northwind.categories\n",
    "USING(categoryid)\n",
    "WHERE categoryname = 'Beverages' AND unitprice > 20"
   ]
  },
  {
   "cell_type": "markdown",
   "metadata": {},
   "source": [
    "## Excercise 7"
   ]
  },
  {
   "cell_type": "code",
   "execution_count": null,
   "metadata": {},
   "outputs": [],
   "source": [
    "SELECT COUNT(*) AS Nbr_of_orders_1996\n",
    "FROM northwind.orders\n",
    "WHERE EXTRACT(YEAR from orderdate) = 1996"
   ]
  },
  {
   "cell_type": "markdown",
   "metadata": {},
   "source": [
    "## Excercise 8"
   ]
  },
  {
   "cell_type": "code",
   "execution_count": null,
   "metadata": {},
   "outputs": [],
   "source": [
    "SELECT categoryname, COUNT(productid) AS Nbr_of_products\n",
    "FROM northwind.categories\n",
    "INNER JOIN northwind.products\n",
    "USING(categoryid)\n",
    "GROUP BY categoryname\n",
    "ORDER BY Nbr_of_products DESC"
   ]
  },
  {
   "cell_type": "markdown",
   "metadata": {},
   "source": [
    "## Excercise 9"
   ]
  },
  {
   "cell_type": "code",
   "execution_count": null,
   "metadata": {},
   "outputs": [],
   "source": [
    "SELECT AVG(o) AS avg_products_per_order \n",
    "FROM (\n",
    "    SELECT COUNT(productid) AS o\n",
    "    FROM northwind.order_details\n",
    "    GROUP BY orderid\n",
    ") a"
   ]
  },
  {
   "cell_type": "markdown",
   "metadata": {},
   "source": [
    "## Excercise 10"
   ]
  },
  {
   "cell_type": "code",
   "execution_count": null,
   "metadata": {},
   "outputs": [],
   "source": [
    "SELECT e.firstname, e.lastname\n",
    "FROM northwind.employees AS e,\n",
    "    (SELECT o1.employeeid, SUM(ov.orders_value) AS tot_order_value\n",
    "    FROM northwind.orders AS o1,\n",
    "        (SELECT o2.orderid, SUM(o2.unitprice*o2.quantity *(1-o2.discount)) AS orders_value\n",
    "        FROM northwind.order_details AS o2\n",
    "        GROUP BY o2.orderid) AS ov\n",
    "    WHERE o1.orderid = ov.orderid\n",
    "    GROUP BY employeeID) AS op\n",
    "WHERE op.employeeid = e.employeeid AND tot_order_value > 200000\n",
    "ORDER BY e.birthdate DESC\n",
    "LIMIT 1\n"
   ]
  },
  {
   "cell_type": "markdown",
   "metadata": {},
   "source": [
    "## Excercise 11"
   ]
  },
  {
   "cell_type": "code",
   "execution_count": null,
   "metadata": {},
   "outputs": [],
   "source": [
    "SELECT hfirst.hiredfirst, hlast.hiredlast\n",
    "FROM (SELECT e1.firstname || ' ' || e1.lastname AS hiredfirst\n",
    "    FROM northwind.employees AS e1\n",
    "    ORDER BY e1.hiredate\n",
    "     LIMIT 1) AS hfirst,\n",
    "    (SELECT e2.firstname || ' ' || e2.lastname AS hiredlast\n",
    "    FROM northwind.employees AS e2\n",
    "    ORDER BY e2.hiredate DESC\n",
    "    LIMIT 1) AS hlast\n"
   ]
  },
  {
   "cell_type": "markdown",
   "metadata": {},
   "source": [
    "# PART 2: DATABASE DESIGN AND CREATION\n",
    "## Excercise 1"
   ]
  },
  {
   "cell_type": "code",
   "execution_count": null,
   "metadata": {},
   "outputs": [],
   "source": [
    "Movies:\n",
    "- MID (int), primary key\n",
    "- moviename (text)\n",
    "\n",
    "Actors:\n",
    "- AID (int), primary key\n",
    "- actorname (text)\n",
    "- actorbirthdate (date)\n",
    "\n",
    "Cinemas:\n",
    "- CID (int), primary key\n",
    "- cinemaname (text)\n",
    "\n",
    "CinemaShowtimes:\n",
    "- SID (int), primary key\n",
    "- MID (int), references Movies' MID column\n",
    "- CID (int), references Cinemas' CID column\n",
    "- cdate (date)\n",
    "\n",
    "MovieActors:\n",
    "- MID (int), references Movies' MID column\n",
    "- AID (int), references Actors' AID column\n"
   ]
  },
  {
   "cell_type": "markdown",
   "metadata": {},
   "source": [
    "## Excercise 2"
   ]
  },
  {
   "cell_type": "code",
   "execution_count": null,
   "metadata": {},
   "outputs": [],
   "source": [
    "CREATE TABLE Movies (\n",
    "    MID SERIAL PRIMARY KEY,\n",
    "    moviename text NOT NULL);\n",
    "\n",
    "CREATE TABLE Actors (\n",
    "    AID SERIAL PRIMARY KEY,\n",
    "    actorname text NOT NULL,\n",
    "    actorbirthdate date);\n",
    "\n",
    "CREATE TABLE Cinemas (\n",
    "    CID SERIAL PRIMARY KEY,\n",
    "    cinemaname text NOT NULL);\n",
    "\n",
    "CREATE TABLE CinemaShowtimes (\n",
    "    SID SERIAL PRIMARY KEY,\n",
    "    MID int REFERENCES Movies (MID),\n",
    "    CID int REFERENCES Cinemas (CID),\n",
    "    cdate date);\n",
    "\n",
    "CREATE TABLE MovieActors (\n",
    "    MID int REFERENCES Movies (MID),\n",
    "    AID int REFERENCES Actors (AID));\n"
   ]
  },
  {
   "cell_type": "markdown",
   "metadata": {},
   "source": [
    "## Excercise 3"
   ]
  },
  {
   "cell_type": "code",
   "execution_count": null,
   "metadata": {},
   "outputs": [],
   "source": [
    "CREATE TABLE MovieActorCinema (\n",
    "    moviename text,\n",
    "    actor text,\n",
    "    actorbirthdate date,\n",
    "    cinema text,\n",
    "    played date);\n",
    "\n",
    "INSERT INTO MovieActorCinema\n",
    "VALUES  ('Jurassic Park', 'Sam Neill', '1947-09-14', 'Ringen Cinema', '1993-07-01'),\n",
    "        ('Jurassic Park', 'Sam Neill', '1947-09-14', 'Colloseum', '1993-07-03'),\n",
    "        ('Free Willy', 'Lori Petty', '1963-10-14', 'Ringen Cinema', '1993-07-13'),\n",
    "        ('Free Willy', 'Jason Richter', '1980-01-29', 'Ringen Cinema', '1993-07-13');\n",
    "\n",
    "INSERT INTO Movies (moviename)\n",
    "SELECT DISTINCT(moviename)\n",
    "FROM MovieActorCinema;\n",
    "\n",
    "INSERT INTO Actors (actorname, actorbirthdate)\n",
    "SELECT DISTINCT(actor), actorbirthdate\n",
    "FROM MovieActorCinema;\n",
    "\n",
    "INSERT INTO Cinemas (cinemaname)\n",
    "SELECT DISTINCT(cinema)\n",
    "FROM MovieActorCinema;\n",
    "\n",
    "INSERT INTO movieactors(mid, aid)\n",
    "SELECT DISTINCT(m.mid), a.aid\n",
    "FROM movieactorcinema AS mac,\n",
    "    (SELECT mid, moviename\n",
    "    FROM movies) AS m,\n",
    "    (SELECT aid, actorname\n",
    "    FROM actors) AS a\n",
    "WHERE mac.moviename = m.moviename AND mac.actor = a.actorname\n",
    "ORDER BY aid;\n",
    "\n",
    "INSERT INTO cinemashowtimes(mid,cid,cdate)\n",
    "SELECT DISTINCT(m.mid), c.cid, mac.played\n",
    "FROM movieactorcinema AS mac,\n",
    "    (SELECT mid, moviename\n",
    "    FROM movies) AS m,\n",
    "    (SELECT cid, cinemaname\n",
    "    FROM cinemas) AS c\n",
    "WHERE mac.moviename = m.moviename AND mac.cinema = c.cinemaname\n",
    "ORDER BY mid;\n",
    "\n"
   ]
  },
  {
   "cell_type": "markdown",
   "metadata": {},
   "source": [
    "# PART 3: PYTHON AND SQL\n",
    "## Excercise 1"
   ]
  },
  {
   "cell_type": "code",
   "execution_count": null,
   "metadata": {},
   "outputs": [],
   "source": [
    "import psycopg2\n",
    "import matplotlib.pyplot as plt\n",
    "\n",
    "connection = \"dbname='s1316704DB' port='5432' user='s1316704' \" + \\\n",
    "             \"host='postgresql-lb-1715985356.eu-west-1.elb.amazonaws.com' \" + \\\n",
    "             \"password='UIOoju559'\"\n",
    "\n",
    "def analysis():\n",
    "    conn = psycopg2.connect(connection)\n",
    "\n",
    "    ch = 0\n",
    "    while (ch != 3):\n",
    "        print(\" -- ANALYZER --\")\n",
    "        print(\"Please choose an option:\")\n",
    "        print(\"1. Today's stats\")\n",
    "        print(\"2. Plot orders\")\n",
    "        print(\"3. Exit\")\n",
    "        ch = int(input(\"Option: \"))\n",
    "\n",
    "        if (ch == 1):\n",
    "            todays_stats(conn)\n",
    "        elif (ch == 2):\n",
    "            plot_orders(conn)\n",
    "\n",
    "\n",
    "def todays_stats(conn):\n",
    "\n",
    "    cur = conn.cursor()\n",
    "\n",
    "    q = \"SELECT sum(p.price * o.num) FROM products as p, orders as o WHERE p.pid = o.pid and o.date = current_date\"\n",
    "    cur.execute(q)\n",
    "    totaltoday = cur.fetchall()\n",
    "\n",
    "    r = \"select p.name FROM orders as o, products as p WHERE o.pid = p.pid and o.date = current_date ORDER BY o.num DESC LIMIT 1\"\n",
    "    cur.execute(r)\n",
    "    bestseller = cur.fetchall()\n",
    "\n",
    "    for i in totaltoday:\n",
    "        print('\\nThe store has sold a total of %s today.' % str(i[0]))\n",
    "    for p in bestseller:\n",
    "        print('The most popular product today is %s.\\n' % str(p[0]))\n",
    "\n",
    "\n",
    "analysis()"
   ]
  },
  {
   "cell_type": "markdown",
   "metadata": {},
   "source": [
    "## Excercise 2"
   ]
  },
  {
   "cell_type": "code",
   "execution_count": null,
   "metadata": {},
   "outputs": [],
   "source": [
    "import psycopg2\n",
    "import matplotlib.pyplot as plt\n",
    "\n",
    "connection = \"dbname='s1316704DB' port='5432' user='s1316704' \" + \\\n",
    "             \"host='postgresql-lb-1715985356.eu-west-1.elb.amazonaws.com' \" + \\\n",
    "             \"password='UIOoju559'\"\n",
    "\n",
    "def analysis():\n",
    "    conn = psycopg2.connect(connection)\n",
    "\n",
    "    ch = 0\n",
    "    while (ch != 3):\n",
    "        print(\" -- ANALYZER --\")\n",
    "        print(\"Please choose an option:\")\n",
    "        print(\"1. Today's stats\")\n",
    "        print(\"2. Plot orders\")\n",
    "        print(\"3. Exit\")\n",
    "        ch = int(input(\"Option: \"))\n",
    "\n",
    "        if (ch == 1):\n",
    "            todays_stats(conn)\n",
    "        elif (ch == 2):\n",
    "            plot_orders(conn)\n",
    "\n",
    "\n",
    "def todays_stats(conn):\n",
    "\n",
    "    cur = conn.cursor()\n",
    "\n",
    "    q = \"SELECT sum(p.price * o.num) FROM products as p, orders as o WHERE p.pid = o.pid and o.date = current_date\"\n",
    "    cur.execute(q)\n",
    "    totaltoday = cur.fetchall()\n",
    "\n",
    "    r = \"select p.name FROM orders as o, products as p WHERE o.pid = p.pid and o.date = current_date ORDER BY o.num DESC LIMIT 1\"\n",
    "    cur.execute(r)\n",
    "    bestseller = cur.fetchall()\n",
    "\n",
    "    for i in totaltoday:\n",
    "        print('\\nThe store has sold a total of %s today.' % str(i[0]))\n",
    "    for p in bestseller:\n",
    "        print('The most popular product today is %s.\\n' % str(p[0]))\n",
    "\n",
    "\n",
    "def plot_orders(conn):\n",
    "\n",
    "    cur = conn.cursor()\n",
    "    product_search = input('Enter product name: ')\n",
    "\n",
    "    if product_search == '':\n",
    "        s = \"SELECT o.date, SUM(p.price * o.num) FROM products as p, orders as o WHERE p.pid = o.pid GROUP BY o.date ORDER BY o.date\"\n",
    "        cur.execute(s)\n",
    "        all_orders = cur.fetchall()\n",
    "\n",
    "        date = [0,]\n",
    "        sales = []\n",
    "        for something in all_orders:\n",
    "            date.append(date[-1]+1)\n",
    "            sales.append(something[1])\n",
    "        date.pop()\n",
    "\n",
    "        plt.style.use('seaborn')\n",
    "        plt.plot(date, sales)\n",
    "        plt.title('Total sold per day for all products')\n",
    "        plt.xlabel(\"Day\")\n",
    "        plt.ylabel(\"Sales\")\n",
    "        plt.grid(True)\n",
    "        plt.show()\n",
    "\n",
    "\n",
    "    else:\n",
    "        s = \"SELECT o.date, SUM(p.price * o.num), p.name FROM products as p, orders as o WHERE p.pid = o.pid and p.name = '%s' GROUP BY o.date, p.name ORDER BY o.date\" % (product_search)\n",
    "        cur.execute(s)\n",
    "        all_orders = cur.fetchall()\n",
    "\n",
    "        date = [0,]\n",
    "        sales = []\n",
    "        for something in all_orders:\n",
    "            date.append(date[-1]+1)\n",
    "            sales.append(something[1])\n",
    "        date.pop()\n",
    "\n",
    "        plt.style.use('seaborn')\n",
    "        plt.plot(date, sales)\n",
    "        plt.title('Total sold per day for %s' % product_search)\n",
    "        plt.xlabel(\"Day\")\n",
    "        plt.ylabel(\"Sales\")\n",
    "        plt.grid(True)\n",
    "        plt.show()\n",
    "\n",
    "analysis()"
   ]
  }
 ],
 "metadata": {
  "kernelspec": {
   "display_name": "Python 3",
   "language": "python",
   "name": "python3"
  },
  "language_info": {
   "codemirror_mode": {
    "name": "ipython",
    "version": 3
   },
   "file_extension": ".py",
   "mimetype": "text/x-python",
   "name": "python",
   "nbconvert_exporter": "python",
   "pygments_lexer": "ipython3",
   "version": "3.6.5"
  }
 },
 "nbformat": 4,
 "nbformat_minor": 2
}
